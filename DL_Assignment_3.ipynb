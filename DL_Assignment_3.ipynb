{
  "cells": [
    {
      "cell_type": "markdown",
      "metadata": {
        "id": "view-in-github",
        "colab_type": "text"
      },
      "source": [
        "<a href=\"https://colab.research.google.com/github/Aabir-Chakraborty/DL/blob/main/DL_Assignment_3.ipynb\" target=\"_parent\"><img src=\"https://colab.research.google.com/assets/colab-badge.svg\" alt=\"Open In Colab\"/></a>"
      ]
    },
    {
      "cell_type": "markdown",
      "source": [
        "#Deep Learning Assignment 3"
      ],
      "metadata": {
        "id": "Nk69A-QzrG7U"
      }
    },
    {
      "cell_type": "markdown",
      "source": [
        "Question 1 & 2 \n",
        "1.\tCreate a single layer neural network to classify the self generated random data.\n",
        "2. Study the single layer neural network for different Learning rates"
      ],
      "metadata": {
        "id": "1KEbU6Dfr_tw"
      }
    },
    {
      "cell_type": "code",
      "execution_count": null,
      "metadata": {
        "id": "LaJ8z6Yuq89i"
      },
      "outputs": [],
      "source": [
        "import torch\n",
        "import matplotlib.pyplot as plt\n",
        "import torch.nn as nn\n",
        "import torch.nn.functional as F\n",
        "from torch.utils.data import TensorDataset\n",
        "from torch.utils.data import DataLoader"
      ]
    },
    {
      "cell_type": "code",
      "execution_count": null,
      "metadata": {
        "colab": {
          "base_uri": "https://localhost:8080/"
        },
        "id": "PyYgGC9Cq89k",
        "outputId": "e3255bbe-a940-4903-e858-3fa8cf7cc411"
      },
      "outputs": [
        {
          "output_type": "execute_result",
          "data": {
            "text/plain": [
              "torch.Size([20, 3])"
            ]
          },
          "metadata": {},
          "execution_count": 10
        }
      ],
      "source": [
        "x = torch.rand(20,3)*10\n",
        "x.shape"
      ]
    },
    {
      "cell_type": "code",
      "execution_count": null,
      "metadata": {
        "colab": {
          "base_uri": "https://localhost:8080/"
        },
        "id": "6B9MwUF2q89l",
        "outputId": "d4d5fb35-e026-4736-9e97-83787cd9caeb"
      },
      "outputs": [
        {
          "output_type": "execute_result",
          "data": {
            "text/plain": [
              "tensor([[5.7964, 5.0419, 5.9220],\n",
              "        [9.6071, 5.3653, 3.2517],\n",
              "        [4.3791, 1.3331, 6.3578],\n",
              "        [6.9410, 1.8405, 9.0341],\n",
              "        [0.2041, 1.3687, 4.5937],\n",
              "        [7.8945, 3.5058, 3.3082],\n",
              "        [2.4874, 8.1935, 9.2465],\n",
              "        [9.6677, 6.6435, 3.6975],\n",
              "        [6.5458, 5.3120, 2.2228],\n",
              "        [2.0092, 9.8549, 7.9792],\n",
              "        [0.5058, 8.4537, 1.3647],\n",
              "        [8.3921, 0.9383, 1.5300],\n",
              "        [0.8836, 5.3079, 2.8680],\n",
              "        [8.0936, 1.9450, 8.3507],\n",
              "        [9.5047, 7.8001, 7.9076],\n",
              "        [7.8165, 0.2837, 5.4821],\n",
              "        [4.9995, 1.5086, 8.5501],\n",
              "        [6.5257, 9.4286, 7.2864],\n",
              "        [3.8180, 4.1259, 4.1694],\n",
              "        [0.1381, 4.3015, 8.2263]])"
            ]
          },
          "metadata": {},
          "execution_count": 11
        }
      ],
      "source": [
        "x"
      ]
    },
    {
      "cell_type": "code",
      "execution_count": null,
      "metadata": {
        "colab": {
          "base_uri": "https://localhost:8080/"
        },
        "id": "HMCGwgqSq89m",
        "outputId": "03a5871e-882c-42c7-bb13-a0e2a643f6c5"
      },
      "outputs": [
        {
          "output_type": "execute_result",
          "data": {
            "text/plain": [
              "torch.Size([20, 1])"
            ]
          },
          "metadata": {},
          "execution_count": 12
        }
      ],
      "source": [
        "y = torch.rand(20,1)*100\n",
        "y.shape"
      ]
    },
    {
      "cell_type": "code",
      "execution_count": null,
      "metadata": {
        "colab": {
          "base_uri": "https://localhost:8080/"
        },
        "id": "tWYsE1iRq89m",
        "outputId": "24f6addc-09a5-4d80-b94a-5c7fdf71c7b2"
      },
      "outputs": [
        {
          "output_type": "execute_result",
          "data": {
            "text/plain": [
              "tensor([[39.3296],\n",
              "        [30.8728],\n",
              "        [88.4547],\n",
              "        [ 3.5542],\n",
              "        [69.7375],\n",
              "        [64.8233],\n",
              "        [46.8841],\n",
              "        [96.7816],\n",
              "        [ 8.1775],\n",
              "        [12.2877],\n",
              "        [16.5330],\n",
              "        [ 8.8257],\n",
              "        [ 4.6044],\n",
              "        [ 2.8395],\n",
              "        [16.5588],\n",
              "        [ 6.8242],\n",
              "        [ 5.6048],\n",
              "        [81.6455],\n",
              "        [ 2.7821],\n",
              "        [90.5780]])"
            ]
          },
          "metadata": {},
          "execution_count": 13
        }
      ],
      "source": [
        "y"
      ]
    },
    {
      "cell_type": "code",
      "execution_count": null,
      "metadata": {
        "id": "GxqdSIf2q89m"
      },
      "outputs": [],
      "source": [
        "comparison = []"
      ]
    },
    {
      "cell_type": "code",
      "execution_count": null,
      "metadata": {
        "colab": {
          "base_uri": "https://localhost:8080/"
        },
        "id": "R17tihEzq89m",
        "outputId": "40f216e3-7470-41ad-c93f-14f71ed561a9"
      },
      "outputs": [
        {
          "output_type": "stream",
          "name": "stdout",
          "text": [
            "Epoch [10/100]: 551.0555419921875\n",
            "Epoch [20/100]: 541.1200561523438\n",
            "Epoch [30/100]: 538.5914306640625\n",
            "Epoch [40/100]: 536.0629272460938\n",
            "Epoch [50/100]: 537.8639526367188\n",
            "Epoch [60/100]: 538.9588012695312\n",
            "Epoch [70/100]: 538.2586059570312\n",
            "Epoch [80/100]: 535.4159545898438\n",
            "Epoch [90/100]: 539.2325439453125\n",
            "Epoch [100/100]: 535.7661743164062\n",
            "Epoch [10/100]: 691.3789672851562\n",
            "Epoch [20/100]: 584.5892944335938\n",
            "Epoch [30/100]: 566.5418701171875\n",
            "Epoch [40/100]: 563.507568359375\n",
            "Epoch [50/100]: 560.5827026367188\n",
            "Epoch [60/100]: 557.955322265625\n",
            "Epoch [70/100]: 555.27978515625\n",
            "Epoch [80/100]: 552.6829833984375\n",
            "Epoch [90/100]: 550.0862426757812\n",
            "Epoch [100/100]: 547.4154663085938\n",
            "Epoch [10/100]: 932.568359375\n",
            "Epoch [20/100]: 900.3232421875\n",
            "Epoch [30/100]: 868.0781860351562\n",
            "Epoch [40/100]: 835.833251953125\n",
            "Epoch [50/100]: 803.588134765625\n",
            "Epoch [60/100]: 771.3430786132812\n",
            "Epoch [70/100]: 739.0980224609375\n",
            "Epoch [80/100]: 714.4819946289062\n",
            "Epoch [90/100]: 696.4556274414062\n",
            "Epoch [100/100]: 681.8250732421875\n"
          ]
        }
      ],
      "source": [
        "for step_size in [1e-2,1e-3,1e-4]:\n",
        "    g = torch.Generator().manual_seed(2147483647)\n",
        "    W = torch.randn((3,1), generator=g, requires_grad=True)\n",
        "    loss_list = []\n",
        "    for i in range(100):\n",
        "        pred = x@W\n",
        "        loss = (abs(y-pred)).sum()\n",
        "        loss.backward()\n",
        "        W.data -= step_size*W.grad\n",
        "        W.grad = None\n",
        "        if (i+1)%10==0:\n",
        "            print(f'Epoch [{i+1}/100]: {loss}')\n",
        "            loss_list.append(loss.item())\n",
        "    comparison.append(loss_list)\n"
      ]
    },
    {
      "cell_type": "code",
      "execution_count": null,
      "metadata": {
        "colab": {
          "base_uri": "https://localhost:8080/",
          "height": 268
        },
        "id": "eSHgOCL3q89n",
        "outputId": "1218783e-f617-43bd-933e-40804229db9d"
      },
      "outputs": [
        {
          "output_type": "display_data",
          "data": {
            "text/plain": [
              "<Figure size 432x288 with 1 Axes>"
            ],
            "image/png": "[encoded data removed]"
          },
          "metadata": {
            "needs_background": "light"
          }
        }
      ],
      "source": [
        "for l in comparison:\n",
        "    plt.plot(l)\n",
        "    plt.legend(['10^-2','10^-3','10^-4'])"
      ]
    },
    {
      "cell_type": "markdown",
      "source": [
        "Question 3\n",
        "3.\tCreate a Deep Multi Layer Neural Network to classify self generated random data."
      ],
      "metadata": {
        "id": "GYKr7Nttsc-L"
      }
    },
    {
      "cell_type": "code",
      "source": [
        "x = torch.rand(20,3)*10\n",
        "y = torch.rand(20,1)*100"
      ],
      "metadata": {
        "id": "Bxb1VzyJsgDL"
      },
      "execution_count": null,
      "outputs": []
    },
    {
      "cell_type": "code",
      "source": [
        "x"
      ],
      "metadata": {
        "colab": {
          "base_uri": "https://localhost:8080/"
        },
        "id": "zS_47ajms5OS",
        "outputId": "ee64789e-8fe8-434d-8e45-9e0de099261b"
      },
      "execution_count": null,
      "outputs": [
        {
          "output_type": "execute_result",
          "data": {
            "text/plain": [
              "tensor([[9.1320e+00, 1.6979e+00, 2.7646e+00],\n",
              "        [5.0618e+00, 6.0735e+00, 1.3771e+00],\n",
              "        [1.4835e+00, 8.4999e+00, 8.2100e+00],\n",
              "        [2.9713e+00, 2.7001e-01, 6.2362e+00],\n",
              "        [1.1662e+00, 2.0240e+00, 2.7030e+00],\n",
              "        [9.0389e-01, 8.5913e+00, 1.3339e+00],\n",
              "        [5.1487e+00, 9.2223e+00, 6.4189e+00],\n",
              "        [7.5786e+00, 9.3214e+00, 9.8917e+00],\n",
              "        [2.5677e+00, 9.2708e-01, 3.3914e+00],\n",
              "        [4.2928e+00, 2.4770e+00, 9.0987e+00],\n",
              "        [3.5273e+00, 5.1608e+00, 4.5403e+00],\n",
              "        [9.1859e+00, 8.6157e+00, 4.3910e+00],\n",
              "        [8.7455e+00, 4.8324e+00, 7.3407e+00],\n",
              "        [5.9141e+00, 1.9190e+00, 7.1905e+00],\n",
              "        [9.2076e+00, 9.1431e+00, 8.2016e+00],\n",
              "        [1.1927e-03, 2.1674e-01, 2.4992e+00],\n",
              "        [8.4769e+00, 4.4451e+00, 2.7965e+00],\n",
              "        [6.6663e+00, 9.4539e+00, 3.4994e+00],\n",
              "        [5.5821e+00, 4.0645e+00, 2.0486e+00],\n",
              "        [4.8281e+00, 2.4412e+00, 7.9099e+00]])"
            ]
          },
          "metadata": {},
          "execution_count": 18
        }
      ]
    },
    {
      "cell_type": "code",
      "source": [
        "y"
      ],
      "metadata": {
        "colab": {
          "base_uri": "https://localhost:8080/"
        },
        "id": "tR45L_TZs7i7",
        "outputId": "3be184df-3a91-40e2-e065-c906d5dcef81"
      },
      "execution_count": null,
      "outputs": [
        {
          "output_type": "execute_result",
          "data": {
            "text/plain": [
              "tensor([[25.4562],\n",
              "        [87.1057],\n",
              "        [38.2461],\n",
              "        [80.4039],\n",
              "        [93.8258],\n",
              "        [97.0052],\n",
              "        [86.3946],\n",
              "        [17.0727],\n",
              "        [46.9263],\n",
              "        [15.6148],\n",
              "        [24.7618],\n",
              "        [ 4.4258],\n",
              "        [18.7729],\n",
              "        [67.3409],\n",
              "        [ 5.4185],\n",
              "        [77.4826],\n",
              "        [62.3685],\n",
              "        [98.2920],\n",
              "        [22.9041],\n",
              "        [32.5445]])"
            ]
          },
          "metadata": {},
          "execution_count": 19
        }
      ]
    },
    {
      "cell_type": "code",
      "source": [
        "train_ds = TensorDataset(x,y)"
      ],
      "metadata": {
        "id": "CADKCQaes-0R"
      },
      "execution_count": null,
      "outputs": []
    },
    {
      "cell_type": "code",
      "source": [
        "batch_size=5\n",
        "train_dl = DataLoader(train_ds,batch_size,shuffle=True)"
      ],
      "metadata": {
        "id": "S3ETuur6tA-i"
      },
      "execution_count": null,
      "outputs": []
    },
    {
      "cell_type": "code",
      "source": [
        "class MLP(nn.Module):\n",
        "    def __init__(self,input_size,hidden_size,output_size):\n",
        "        super().__init__()\n",
        "        self.layer1 = nn.Linear(input_size,hidden_size)\n",
        "        self.layer2 = nn.Linear(hidden_size,output_size)\n",
        "\n",
        "    def forward(self,x):\n",
        "        out = self.layer1(x)\n",
        "        out = F.relu(out)\n",
        "        out = self.layer2(out)\n",
        "        out = F.relu(out)\n",
        "        return out"
      ],
      "metadata": {
        "id": "0xA8Lbc0tBFr"
      },
      "execution_count": null,
      "outputs": []
    },
    {
      "cell_type": "code",
      "source": [
        "input_size = 3\n",
        "hidden_size = 8\n",
        "output_size = 1\n",
        "model = MLP(input_size,hidden_size,output_size)"
      ],
      "metadata": {
        "id": "Sp8nnf69tFjL"
      },
      "execution_count": null,
      "outputs": []
    },
    {
      "cell_type": "code",
      "source": [
        "loss_fn = F.mse_loss\n",
        "opt = torch.optim.SGD(model.parameters(), lr=1e-5)"
      ],
      "metadata": {
        "id": "LbR_sjs0tH0z"
      },
      "execution_count": null,
      "outputs": []
    },
    {
      "cell_type": "code",
      "source": [
        "def fit(epochs,model,loss_fn,opt,train_dl):\n",
        "    for epoch in range(epochs):\n",
        "        for x,y in train_dl:\n",
        "            pred = model(x)\n",
        "            loss = loss_fn(pred,y)\n",
        "            loss.backward()\n",
        "            opt.step()\n",
        "            opt.zero_grad()\n",
        "        if (epoch+1)%10 == 0:\n",
        "            print('Epoch [{}/{}], Loss: {:.4f}'.format(epoch+1, epochs, loss.item()))"
      ],
      "metadata": {
        "id": "3Rmk9qs6tJnP"
      },
      "execution_count": null,
      "outputs": []
    },
    {
      "cell_type": "code",
      "source": [
        "fit(100,model,loss_fn,opt,train_dl)"
      ],
      "metadata": {
        "colab": {
          "base_uri": "https://localhost:8080/"
        },
        "id": "M0yQSSzStNKS",
        "outputId": "e428046e-5a6c-4419-d361-4247feffc2bb"
      },
      "execution_count": null,
      "outputs": [
        {
          "output_type": "stream",
          "name": "stdout",
          "text": [
            "Epoch [10/100], Loss: 4605.1475\n",
            "Epoch [20/100], Loss: 2258.6782\n",
            "Epoch [30/100], Loss: 1052.0607\n",
            "Epoch [40/100], Loss: 6153.2666\n",
            "Epoch [50/100], Loss: 2190.4160\n",
            "Epoch [60/100], Loss: 2827.6025\n",
            "Epoch [70/100], Loss: 1422.1980\n",
            "Epoch [80/100], Loss: 1373.0116\n",
            "Epoch [90/100], Loss: 4938.5757\n",
            "Epoch [100/100], Loss: 2719.7805\n"
          ]
        }
      ]
    }
  ],
  "metadata": {
    "kernelspec": {
      "display_name": "Python 3",
      "language": "python",
      "name": "python3"
    },
    "language_info": {
      "codemirror_mode": {
        "name": "ipython",
        "version": 3
      },
      "file_extension": ".py",
      "mimetype": "text/x-python",
      "name": "python",
      "nbconvert_exporter": "python",
      "pygments_lexer": "ipython3",
      "version": "3.10.5 (tags/v3.10.5:f377153, Jun  6 2022, 16:14:13) [MSC v.1929 64 bit (AMD64)]"
    },
    "orig_nbformat": 4,
    "vscode": {
      "interpreter": {
        "hash": "26de051ba29f2982a8de78e945f0abaf191376122a1563185a90213a26c5da77"
      }
    },
    "colab": {
      "provenance": [],
      "include_colab_link": true
    }
  },
  "nbformat": 4,
  "nbformat_minor": 0
}