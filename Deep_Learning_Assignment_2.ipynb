{
  "nbformat": 4,
  "nbformat_minor": 0,
  "metadata": {
    "colab": {
      "provenance": [],
      "include_colab_link": true
    },
    "kernelspec": {
      "name": "python3",
      "display_name": "Python 3"
    },
    "language_info": {
      "name": "python"
    }
  },
  "cells": [
    {
      "cell_type": "markdown",
      "metadata": {
        "id": "view-in-github",
        "colab_type": "text"
      },
      "source": [
        "<a href=\"https://colab.research.google.com/github/Aabir-Chakraborty/DL/blob/main/Deep_Learning_Assignment_2.ipynb\" target=\"_parent\"><img src=\"https://colab.research.google.com/assets/colab-badge.svg\" alt=\"Open In Colab\"/></a>"
      ]
    },
    {
      "cell_type": "markdown",
      "source": [
        "#Deep Learning Assignment 2\n",
        "\n",
        "Submitted By- Ritik Nagpal\n",
        "Roll No-102015093\n",
        "Class-3ENC5"
      ],
      "metadata": {
        "id": "JX56gIjNY39V"
      }
    },
    {
      "cell_type": "markdown",
      "source": [
        "Q1. Use the function 3𝑥^2 − 3𝑥 + 4 to get its minimum value using Gradient Descent Algorithm. \n",
        "Plot the necessary graphs and compare the minimum value with theoretical minimum.\n"
      ],
      "metadata": {
        "id": "uMDXuz0ZfFTv"
      }
    },
    {
      "cell_type": "code",
      "execution_count": null,
      "metadata": {
        "colab": {
          "base_uri": "https://localhost:8080/",
          "height": 286
        },
        "id": "FtdhQG9Tejs-",
        "outputId": "d77cd18c-80a7-436d-e22c-6580dd59e6ce"
      },
      "outputs": [
        {
          "output_type": "stream",
          "name": "stdout",
          "text": [
            "Minimum value:  3.25\n"
          ]
        },
        {
          "output_type": "display_data",
          "data": {
            "text/plain": [
              "<Figure size 432x288 with 1 Axes>"
            ],
            "image/png": "[encoded data removed]"
          },
          "metadata": {
            "needs_background": "light"
          }
        }
      ],
      "source": [
        "import numpy as np\n",
        "import matplotlib.pyplot as plt\n",
        "\n",
        "def func(x):\n",
        "    return 3*x**2 - 3*x + 4\n",
        "\n",
        "def grad(x):\n",
        "    return 6*x - 3\n",
        "\n",
        "def gradient_descent(x0, learning_rate, num_iterations):\n",
        "    x = x0\n",
        "    x_values = [x0]\n",
        "    y_values = [func(x0)]\n",
        "    for i in range(num_iterations):\n",
        "        x = x - learning_rate*grad(x)\n",
        "        x_values.append(x)\n",
        "        y_values.append(func(x))\n",
        "    return x, x_values, y_values\n",
        "\n",
        "x0 = 5\n",
        "learning_rate = 0.1\n",
        "num_iterations = 100\n",
        "\n",
        "min_x, x_values, y_values = gradient_descent(x0, learning_rate, num_iterations)\n",
        "\n",
        "print(\"Minimum value: \", func(min_x))\n",
        "\n",
        "x = np.linspace(-10, 10, 100)\n",
        "y = func(x)\n",
        "plt.plot(x, y, 'b-', label='Function')\n",
        "plt.plot(x_values, y_values, 'r-', label='Gradient Descent')\n",
        "plt.legend()\n",
        "plt.show()"
      ]
    },
    {
      "cell_type": "markdown",
      "source": [
        "The theoretical minimum value of this function is 4, which is achieved when x = 0. The Gradient Descent Algorithm should also find this minimum value, as long as the starting point, learning rate, and number of iterations are chosen appropriately. The plot will show the function and the path taken by the Gradient Descent algorithm to the minimum value."
      ],
      "metadata": {
        "id": "Err4XdqBqDnm"
      }
    },
    {
      "cell_type": "markdown",
      "source": [
        "Q2. Develop an ANN model of regression for predicting the values"
      ],
      "metadata": {
        "id": "8o8L3LhQfEzF"
      }
    },
    {
      "cell_type": "code",
      "source": [
        "import torch\n",
        "import torch.nn as nn\n",
        "import matplotlib.pyplot as plt\n",
        "\n",
        "# Define the model\n",
        "class ANN(nn.Module):\n",
        "    def __init__(self):\n",
        "        super(ANN, self).__init__()\n",
        "        self.fc1 = nn.Linear(1, 10)\n",
        "        self.fc2 = nn.Linear(10, 1)\n",
        "        \n",
        "    def forward(self, x):\n",
        "        x = torch.sigmoid(self.fc1(x))\n",
        "        x = self.fc2(x)\n",
        "        return x\n",
        "\n",
        "# Create an instance of the model\n",
        "model = ANN()\n",
        "\n",
        "# Define the loss function and optimizer\n",
        "criterion = nn.MSELoss()\n",
        "optimizer = torch.optim.SGD(model.parameters(), lr=0.1)\n",
        "\n",
        "# Generate some fake data for training\n",
        "x_train = torch.linspace(-10, 10, 100).reshape(-1, 1)\n",
        "y_train = x_train + torch.randn(x_train.shape) * 2\n",
        "\n",
        "# Train the model\n",
        "for epoch in range(100):\n",
        "    optimizer.zero_grad()\n",
        "    y_pred = model(x_train)\n",
        "    loss = criterion(y_pred, y_train)\n",
        "    loss.backward()\n",
        "    optimizer.step()\n",
        "    if (epoch+1) % 1 == 0:\n",
        "        print(f\"Epoch {epoch+1}, Loss: {loss.item()}\")\n",
        "\n",
        "# Generate some fake data for testing\n",
        "x_test = torch.linspace(-10, 10, 50).reshape(-1, 1)\n",
        "y_test = x_test + torch.randn(x_test.shape) * 2\n",
        "\n",
        "# Make predictions on the test data\n",
        "y_pred = model(x_test)\n",
        "\n",
        "# Plot the results\n",
        "plt.scatter(x_train.numpy(), y_train.numpy(), label=\"Training Data\")\n",
        "plt.scatter(x_test.numpy(), y_test.numpy(), label=\"Testing Data\")\n",
        "plt.plot(x_test.numpy(), y_pred.detach().numpy(), label=\"Predictions\")\n",
        "plt.legend()\n",
        "plt.show()"
      ],
      "metadata": {
        "colab": {
          "base_uri": "https://localhost:8080/",
          "height": 2000
        },
        "id": "WN0oiqTQtxzC",
        "outputId": "1b466298-6cb1-484a-a784-081480adb51b"
      },
      "execution_count": null,
      "outputs": [
        {
          "output_type": "stream",
          "name": "stdout",
          "text": [
            "Epoch 1, Loss: 34.318260192871094\n",
            "Epoch 2, Loss: 19.438613891601562\n",
            "Epoch 3, Loss: 11.8055419921875\n",
            "Epoch 4, Loss: 8.542805671691895\n",
            "Epoch 5, Loss: 7.207699775695801\n",
            "Epoch 6, Loss: 6.595792770385742\n",
            "Epoch 7, Loss: 6.233243465423584\n",
            "Epoch 8, Loss: 5.9532318115234375\n",
            "Epoch 9, Loss: 5.706389904022217\n",
            "Epoch 10, Loss: 5.484311580657959\n",
            "Epoch 11, Loss: 5.286813259124756\n",
            "Epoch 12, Loss: 5.110807418823242\n",
            "Epoch 13, Loss: 4.952267646789551\n",
            "Epoch 14, Loss: 4.8089776039123535\n",
            "Epoch 15, Loss: 4.6800031661987305\n",
            "Epoch 16, Loss: 4.564606666564941\n",
            "Epoch 17, Loss: 4.461828231811523\n",
            "Epoch 18, Loss: 4.3705973625183105\n",
            "Epoch 19, Loss: 4.289909839630127\n",
            "Epoch 20, Loss: 4.218862056732178\n",
            "Epoch 21, Loss: 4.156615257263184\n",
            "Epoch 22, Loss: 4.102363109588623\n",
            "Epoch 23, Loss: 4.055259704589844\n",
            "Epoch 24, Loss: 4.0143656730651855\n",
            "Epoch 25, Loss: 3.978688955307007\n",
            "Epoch 26, Loss: 3.947279930114746\n",
            "Epoch 27, Loss: 3.9193274974823\n",
            "Epoch 28, Loss: 3.8941924571990967\n",
            "Epoch 29, Loss: 3.8713934421539307\n",
            "Epoch 30, Loss: 3.850571870803833\n",
            "Epoch 31, Loss: 3.8314528465270996\n",
            "Epoch 32, Loss: 3.8138210773468018\n",
            "Epoch 33, Loss: 3.7975013256073\n",
            "Epoch 34, Loss: 3.7823476791381836\n",
            "Epoch 35, Loss: 3.7682366371154785\n",
            "Epoch 36, Loss: 3.7550628185272217\n",
            "Epoch 37, Loss: 3.7427337169647217\n",
            "Epoch 38, Loss: 3.731170654296875\n",
            "Epoch 39, Loss: 3.7203028202056885\n",
            "Epoch 40, Loss: 3.710066795349121\n",
            "Epoch 41, Loss: 3.700418472290039\n",
            "Epoch 42, Loss: 3.691340446472168\n",
            "Epoch 43, Loss: 3.68306040763855\n",
            "Epoch 44, Loss: 3.677504777908325\n",
            "Epoch 45, Loss: 3.6902432441711426\n",
            "Epoch 46, Loss: 3.8500962257385254\n",
            "Epoch 47, Loss: 5.1092848777771\n",
            "Epoch 48, Loss: 12.23684310913086\n",
            "Epoch 49, Loss: 4.244011402130127\n",
            "Epoch 50, Loss: 4.265617847442627\n",
            "Epoch 51, Loss: 5.096889495849609\n",
            "Epoch 52, Loss: 4.543041706085205\n",
            "Epoch 53, Loss: 5.915389537811279\n",
            "Epoch 54, Loss: 4.1534552574157715\n",
            "Epoch 55, Loss: 4.4528489112854\n",
            "Epoch 56, Loss: 4.2882280349731445\n",
            "Epoch 57, Loss: 4.921111106872559\n",
            "Epoch 58, Loss: 4.31643009185791\n",
            "Epoch 59, Loss: 4.954084873199463\n",
            "Epoch 60, Loss: 4.284219264984131\n",
            "Epoch 61, Loss: 4.824504852294922\n",
            "Epoch 62, Loss: 4.277656078338623\n",
            "Epoch 63, Loss: 4.802389144897461\n",
            "Epoch 64, Loss: 4.273069381713867\n",
            "Epoch 65, Loss: 4.789683818817139\n",
            "Epoch 66, Loss: 4.269866943359375\n",
            "Epoch 67, Loss: 4.782821178436279\n",
            "Epoch 68, Loss: 4.2670488357543945\n",
            "Epoch 69, Loss: 4.777544021606445\n",
            "Epoch 70, Loss: 4.264307975769043\n",
            "Epoch 71, Loss: 4.772660732269287\n",
            "Epoch 72, Loss: 4.2615437507629395\n",
            "Epoch 73, Loss: 4.767796516418457\n",
            "Epoch 74, Loss: 4.258738994598389\n",
            "Epoch 75, Loss: 4.762890815734863\n",
            "Epoch 76, Loss: 4.255887985229492\n",
            "Epoch 77, Loss: 4.757922172546387\n",
            "Epoch 78, Loss: 4.252988815307617\n",
            "Epoch 79, Loss: 4.752884864807129\n",
            "Epoch 80, Loss: 4.250040054321289\n",
            "Epoch 81, Loss: 4.747774124145508\n",
            "Epoch 82, Loss: 4.247041702270508\n",
            "Epoch 83, Loss: 4.742588996887207\n",
            "Epoch 84, Loss: 4.243992805480957\n",
            "Epoch 85, Loss: 4.737331390380859\n",
            "Epoch 86, Loss: 4.24089241027832\n",
            "Epoch 87, Loss: 4.731996536254883\n",
            "Epoch 88, Loss: 4.237740516662598\n",
            "Epoch 89, Loss: 4.726584434509277\n",
            "Epoch 90, Loss: 4.234537124633789\n",
            "Epoch 91, Loss: 4.721099376678467\n",
            "Epoch 92, Loss: 4.231281757354736\n",
            "Epoch 93, Loss: 4.715538024902344\n",
            "Epoch 94, Loss: 4.227972984313965\n",
            "Epoch 95, Loss: 4.709896564483643\n",
            "Epoch 96, Loss: 4.224613189697266\n",
            "Epoch 97, Loss: 4.704181671142578\n",
            "Epoch 98, Loss: 4.2211995124816895\n",
            "Epoch 99, Loss: 4.698390007019043\n",
            "Epoch 100, Loss: 4.217733383178711\n"
          ]
        },
        {
          "output_type": "display_data",
          "data": {
            "text/plain": [
              "<Figure size 432x288 with 1 Axes>"
            ],
            "image/png": "[encoded data removed]"
          },
          "metadata": {
            "needs_background": "light"
          }
        }
      ]
    }
  ]
}